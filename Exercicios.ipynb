{
 "cells": [
  {
   "cell_type": "markdown",
   "metadata": {},
   "source": [
    "# Exercícios em Python: Classes"
   ]
  },
  {
   "cell_type": "code",
   "execution_count": null,
   "metadata": {},
   "outputs": [],
   "source": []
  },
  {
   "cell_type": "code",
   "execution_count": 1,
   "metadata": {},
   "outputs": [
    {
     "name": "stdout",
     "output_type": "stream",
     "text": [
      "Música: Bohemian Rhapsody - Banda: Queen - 355 segundos\n"
     ]
    }
   ],
   "source": [
    "# ATIVIDADE: \n",
    "\n",
    "# Em programação orientada a objetos (OO), uma classe é um modelo para criar objetos. Um objeto é uma instância específica de uma classe, e as classes são utilizadas para definir o comportamento e as propriedades compartilhadas por um grupo de objetos relacionados.\n",
    "\n",
    "# Por exemplo, uma classe Música poderia ter 3 atributos (que trazem as características ou propriedades de um objeto):\n",
    "\n",
    "# nome\n",
    "# artista\n",
    "# duracao\n",
    "\n",
    "# Agora é sua vez! Crie uma classe chamada Musica com os seguintes atributos e crie 3 objetos definindo cada atributo..\n",
    "\n",
    "class Musica:\n",
    "    nome = ''\n",
    "    artista = ''\n",
    "    duracao = int\n",
    "    \n",
    "\n",
    "musica1 = Musica()\n",
    "musica1.nome = 'Bohemian Rhapsody'\n",
    "musica1.artista = 'Queen'\n",
    "musica1.duracao = 355\n",
    "\n",
    "print(f'Música: {musica1.nome} - Banda: {musica1.artista} - {musica1.duracao} segundos')\n",
    "\n"
   ]
  },
  {
   "cell_type": "code",
   "execution_count": null,
   "metadata": {},
   "outputs": [],
   "source": [
    "# 1) Atribua o valor 'Italiana' ao atributo categoria da instância restaurante_praca da classe Restaurante.\n",
    "\n",
    "class Restaurante:\n",
    "    nome = ''\n",
    "    categoria = ''\n",
    "    ativo = False\n",
    "\n",
    "restaurante_praca = Restaurante()\n",
    "\n",
    "restaurante_praca.categoria = 'Italiana'\n"
   ]
  },
  {
   "cell_type": "code",
   "execution_count": null,
   "metadata": {},
   "outputs": [],
   "source": [
    "# 2) Acesse o valor do atributo nome da instância restaurante_praca da classe Restaurante.\n",
    "\n",
    "class Restaurante:\n",
    "    nome = ''\n",
    "    categoria = ''\n",
    "    ativo = False\n",
    "\n",
    "nome_do_restaurante = restaurante_praca.nome"
   ]
  },
  {
   "cell_type": "code",
   "execution_count": 13,
   "metadata": {},
   "outputs": [
    {
     "name": "stdout",
     "output_type": "stream",
     "text": [
      "O restaurante está inativo.\n"
     ]
    }
   ],
   "source": [
    "# 3) Verifique o valor inicial do atributo ativo para a instância restaurante_praca e exiba uma mensagem informando se o restaurante está ativo ou inativo.\n",
    "\n",
    "\n",
    "class Restaurante:\n",
    "    nome = ''\n",
    "    categoria = ''\n",
    "    ativo = False\n",
    "\n",
    "restaurante_praca = Restaurante()\n",
    "\n",
    "if restaurante_praca.ativo:\n",
    "    print('O restaurante está ativo.')\n",
    "else:\n",
    "    print('O restaurante está inativo.')"
   ]
  },
  {
   "cell_type": "code",
   "execution_count": null,
   "metadata": {},
   "outputs": [],
   "source": [
    "# 4) Acesse o valor do atributo de classe categoria diretamente da classe Restaurante e armazene em uma variável chamada categoria.\n",
    "\n",
    "categoria = Restaurante.categoria"
   ]
  },
  {
   "cell_type": "code",
   "execution_count": null,
   "metadata": {},
   "outputs": [],
   "source": [
    "# 5) Altere o valor do atributo nome para 'Bistrô'.\n",
    "\n",
    "restaurante_praca.nome = 'Bistrô'"
   ]
  },
  {
   "cell_type": "code",
   "execution_count": null,
   "metadata": {},
   "outputs": [],
   "source": [
    "# 6) Crie uma nova instância da classe Restaurante chamada restaurante_pizza com o nome 'Pizza Place' e categoria 'Fast Food'.\n",
    "\n",
    "class Restaurante:\n",
    "    nome = ''\n",
    "    categoria = ''\n",
    "    ativo = False\n",
    "\n",
    "restaurante_pizza = Restaurante()\n",
    "restaurante_pizza.nome = 'Pizza Place'\n",
    "restaurante_pizza.categoria = 'Fast Food'\n"
   ]
  },
  {
   "cell_type": "code",
   "execution_count": 14,
   "metadata": {},
   "outputs": [
    {
     "name": "stdout",
     "output_type": "stream",
     "text": [
      "A categoria não é Fast Food.\n"
     ]
    }
   ],
   "source": [
    "# 7) Verifique se a categoria da instância restaurante_pizza é 'Fast Food'\n",
    "\n",
    "class Restaurante:\n",
    "    nome = ''\n",
    "    categoria = ''\n",
    "    ativo = False\n",
    "\n",
    "restaurante_pizza = Restaurante()\n",
    "if restaurante_pizza.categoria == 'Fast Food':\n",
    "    print('A categoria é Fast Food.')\n",
    "else:\n",
    "    print('A categoria não é Fast Food.')\n"
   ]
  },
  {
   "cell_type": "code",
   "execution_count": 9,
   "metadata": {},
   "outputs": [
    {
     "name": "stdout",
     "output_type": "stream",
     "text": [
      "O nome do restaurante é: Pizza Place, ele pertence a categoria: Fast Food e seu estado é: True.\n"
     ]
    }
   ],
   "source": [
    "# 8) Mude o estado da instância restaurante_pizza para ativo.\n",
    "\n",
    "class Restaurante:\n",
    "    nome = ''\n",
    "    categoria = ''\n",
    "    ativo = False\n",
    "\n",
    "restaurante_pizza = Restaurante()\n",
    "restaurante_pizza.nome = 'Pizza Place'\n",
    "restaurante_pizza.categoria = 'Fast Food'\n",
    "restaurante_pizza.ativo = True\n",
    "\n",
    "print(f'O nome do restaurante é: {restaurante_pizza.nome}, ele pertence a categoria: {restaurante_pizza.categoria} e seu estado é: {restaurante_pizza.ativo}.')"
   ]
  },
  {
   "cell_type": "code",
   "execution_count": 10,
   "metadata": {},
   "outputs": [
    {
     "name": "stdout",
     "output_type": "stream",
     "text": [
      "O nome do restaurante é: Praça e sua categoria é: Italiana.\n"
     ]
    }
   ],
   "source": [
    "# 9) Imprima no console o nome e a categoria da instância restaurante_praca.\n",
    "\n",
    "class Restaurante:\n",
    "    nome = ''\n",
    "    categoria = ''\n",
    "    ativo = False\n",
    "\n",
    "restaurante_praca = Restaurante()\n",
    "restaurante_praca.nome = 'Praça'\n",
    "restaurante_praca.categoria = 'Italiana'\n",
    "\n",
    "print(f'O nome do restaurante é: {restaurante_praca.nome} e sua categoria é: {restaurante_praca.categoria}.')"
   ]
  },
  {
   "cell_type": "markdown",
   "metadata": {},
   "source": [
    "# Exercícios em Python: Construtor e instanciando objetos"
   ]
  },
  {
   "cell_type": "code",
   "execution_count": null,
   "metadata": {},
   "outputs": [],
   "source": [
    "# 1) Implemente uma classe chamada Carro com os atributos básicos, como modelo, cor e ano. Crie uma instância dessa classe e atribua valores aos seus atributos.\n",
    "\n",
    "class Carro:\n",
    "    def __init__(self, modelo, cor, ano):\n",
    "        self.modelo = modelo\n",
    "        self.cor = cor\n",
    "        self.ano = ano\n",
    "        \n",
    "meu_carro = Carro(modelo = 'Fox', cor = 'Cinza', ano =2009)"
   ]
  },
  {
   "cell_type": "code",
   "execution_count": null,
   "metadata": {},
   "outputs": [],
   "source": [
    "# 2) Crie uma classe chamada Restaurante com os atributos nome, categoria, ativo e crie mais 2 atributos. Instancie um restaurante e atribua valores aos seus atributos.\n",
    "\n",
    "class Restaurante:\n",
    "    def __init__(self, nome, categoria, valor, delivery):\n",
    "        self.nome = nome\n",
    "        self.categoria = categoria\n",
    "        self.ativo = False\n",
    "        self.valor = valor\n",
    "        self.delivery = delivery\n",
    "        \n",
    "rest = Restaurante('Hamburguer gostoso', 'Hamburguer', 'True', 50, 'Sim' )\n",
    "\n",
    "        "
   ]
  },
  {
   "cell_type": "code",
   "execution_count": 4,
   "metadata": {},
   "outputs": [
    {
     "name": "stdout",
     "output_type": "stream",
     "text": [
      "{'nome': 'Santa Marmita', 'categoria': 'Fast Food', 'capacidade': 60, 'nota_avaliacao': 5, 'ativo': 'True'}\n"
     ]
    }
   ],
   "source": [
    "# 3) Modifique a classe Restaurante adicionando um construtor que aceita nome e categoria como parâmetros e inicia ativo como False por padrão. Crie uma instância utilizando o construtor.\n",
    "\n",
    "class Restaurante:\n",
    "    def __init__(self, nome, categoria, capacidade, nota_avaliacao, ativo=False,):\n",
    "        self.nome = nome\n",
    "        self.categoria = categoria\n",
    "        self.capacidade = capacidade\n",
    "        self.nota_avaliacao = nota_avaliacao\n",
    "        self.ativo = ativo\n",
    "\n",
    "# Instanciando um restaurante utilizando o construtor\n",
    "novo_restaurante = Restaurante('Santa Marmita','Fast Food', 60, 5, 'True')\n",
    "\n",
    "print(vars(novo_restaurante))"
   ]
  },
  {
   "cell_type": "code",
   "execution_count": 7,
   "metadata": {},
   "outputs": [
    {
     "name": "stdout",
     "output_type": "stream",
     "text": [
      "Bom Sabor | Tradicional\n"
     ]
    }
   ],
   "source": [
    "# # 4) Adicione um método especial `__str__` à classe Restaurante para que, ao imprimir uma instância, seja exibida uma mensagem formatada com o nome e a categoria. Exiba essa mensagem para uma instância de restaurante.\n",
    "\n",
    "class Restaurante:\n",
    "    def __init__(self, nome, categoria, capacidade, nota_avaliacao, ativo=False,):\n",
    "        self.nome = nome\n",
    "        self.categoria = categoria\n",
    "        self.capacidade = capacidade\n",
    "        self.nota_avaliacao = nota_avaliacao\n",
    "        self.ativo = ativo\n",
    "\n",
    "    def __str__(self):\n",
    "        return f'{self.nome} | {self.categoria}'\n",
    "\n",
    "# Exibindo uma instância do restaurante formatada\n",
    "restaurante_formatado = Restaurante('Bom Sabor', 'Tradicional', 60, 10)\n",
    "print(restaurante_formatado)"
   ]
  },
  {
   "cell_type": "code",
   "execution_count": null,
   "metadata": {},
   "outputs": [],
   "source": [
    "# 5) Crie uma classe chamada `Cliente` e pense em 4 atributos. Em seguida, instancie 3 objetos desta classe e atribua valores aos seus atributos através de um método construtor.\n",
    "\n",
    "class Cliente:\n",
    "    def __init__(self, nome='', idade=0, email='', telefone=''):\n",
    "        self.nome = nome\n",
    "        self.idade = idade\n",
    "        self.email = email\n",
    "        self.telefone = telefone\n",
    "\n",
    "# Instanciando três objetos da classe Cliente e atribuindo valores aos seus atributos através do construtor\n",
    "cliente1 = Cliente(nome='Alice', idade=25, email='alice@gmail.com', telefone='123-456-7890')\n",
    "cliente2 = Cliente(nome='Bob', idade=30, email='bob@gmail.com', telefone='987-654-3210')\n",
    "cliente3 = Cliente(nome='Charlie', idade=22, email='charlie@gmail.com', telefone='555-123-4567')"
   ]
  },
  {
   "cell_type": "markdown",
   "metadata": {},
   "source": [
    "# Exercícios em Python: Property e Métodos de Classe"
   ]
  },
  {
   "cell_type": "code",
   "execution_count": 5,
   "metadata": {},
   "outputs": [
    {
     "name": "stdout",
     "output_type": "stream",
     "text": [
      "Infos\n",
      "Nome: Bernardo, idade: 5, profissao: segurança\n",
      "Nome: Bernardo, idade: 6, profissao: segurança\n"
     ]
    }
   ],
   "source": [
    "# A criação de classes em Python é uma maneira poderosa de estruturar código de forma orientada a objetos. Abaixo, temos um exemplo de uma classe chamada Livro que representa informações sobre um livro, como título, autor e número de páginas:\n",
    "\n",
    "class Livro:\n",
    "    def __init__(self, titulo='', autor='', paginas=0):\n",
    "        self.titulo = titulo\n",
    "        self.autor = autor\n",
    "        self.paginas = paginas\n",
    "\n",
    "    def __str__(self):\n",
    "        return f'{self.titulo} por {self.autor} - {self.paginas} páginas'\n",
    "\n",
    "    @property\n",
    "    def titulo_autor(self):\n",
    "        return f'{self.titulo} por {self.autor}'\n",
    "\n",
    "    def aumentar_paginas(self, quantidade):\n",
    "        self.paginas += quantidade\n",
    "        \n",
    "# Crie uma nova classe chamada Pessoa com atributos como nome, idade e profissão. Adicione um método especial __str__ para imprimir uma representação em string da pessoa. Implemente também um método de instância chamado aniversario que aumenta a idade da pessoa em um ano. Por fim, adicione uma propriedade chamada saudacao que retorna uma mensagem de saudação personalizada com base na profissão da pessoa.\n",
    "\n",
    "class Pessoa: \n",
    "    def __init__(self, nome='', idade=0, profissao=''):\n",
    "        self.nome = nome\n",
    "        self.idade = idade\n",
    "        self.profissao = profissao\n",
    "\n",
    "    def __str__(self):\n",
    "        return f'Nome: {self.nome}, idade: {self.idade}, profissao: {self.profissao}'\n",
    "    \n",
    "    @property\n",
    "    def saudacao(self):\n",
    "        if self.profissao:\n",
    "            return f'Olá, sou {self.nome}! Trabalho com {self.profissao}'\n",
    "        else:\n",
    "            return f'Olá, sou {self.nome}'\n",
    "    \n",
    "    def aniversario(self):\n",
    "        self.idade += 1\n",
    "        \n",
    "pessoa1 = Pessoa(nome='Bernardo', idade=5, profissao='segurança')\n",
    "\n",
    "print('Infos')\n",
    "print(pessoa1)\n",
    "pessoa1.aniversario()\n",
    "print(pessoa1)\n"
   ]
  },
  {
   "cell_type": "code",
   "execution_count": null,
   "metadata": {},
   "outputs": [],
   "source": [
    "# 1) Crie uma classe chamada ContaBancaria com um construtor que aceita os parâmetros titular e saldo. Inicie o atributo ativo como False por padrão.\n",
    "\n",
    "class ContaBancaria:\n",
    "    def __init__(self, titulo, saldo):\n",
    "        self.titulo = titulo\n",
    "        self.saldo = saldo\n",
    "        self.ativo = False\n",
    "        "
   ]
  },
  {
   "cell_type": "code",
   "execution_count": 7,
   "metadata": {},
   "outputs": [
    {
     "name": "stdout",
     "output_type": "stream",
     "text": [
      "Olá Bernardo e seu saldo é: 500\n"
     ]
    }
   ],
   "source": [
    "# 2) Na classe ContaBancaria, adicione um método especial __str__ que retorna uma mensagem formatada com o titular e o saldo da conta. Crie duas instâncias da classe e imprima essas instâncias.\n",
    "\n",
    "class ContaBancaria:\n",
    "    def __init__(self, titular, saldo):\n",
    "        self.titular = titular\n",
    "        self.saldo = saldo\n",
    "        self.ativo = False\n",
    "     \n",
    "    def __str__(self):\n",
    "        return f'Olá {self.titular} e seu saldo é: {self.saldo}'\n",
    "    \n",
    "correntista = ContaBancaria('Bernardo', 500)\n",
    "print(correntista)"
   ]
  },
  {
   "cell_type": "code",
   "execution_count": 11,
   "metadata": {},
   "outputs": [
    {
     "name": "stdout",
     "output_type": "stream",
     "text": [
      "Olá Bernardo, seu saldo é: 500 e sua conta está True\n"
     ]
    }
   ],
   "source": [
    "# 3) Adicione um método de classe chamado ativar_conta à classe ContaBancaria que define o atributo ativo como True. Crie uma instância da classe, chame o método de classe e imprima o valor de ativo.\n",
    "\n",
    "class ContaBancaria:\n",
    "    def __init__(self, titular, saldo):\n",
    "        self.titular = titular\n",
    "        self.saldo = saldo\n",
    "        self._ativo = False\n",
    "     \n",
    "    def __str__(self):\n",
    "        return f'Olá {self.titular}, seu saldo é: {self.saldo} e sua conta está {self._ativo}'\n",
    "    \n",
    "    @classmethod\n",
    "    def ativar_conta(cls, conta):\n",
    "        conta._ativo = True\n",
    "       \n",
    "    \n",
    "correntista = ContaBancaria('Bernardo', 500)\n",
    "ContaBancaria.ativar_conta(correntista)\n",
    "print(correntista)\n"
   ]
  },
  {
   "cell_type": "code",
   "execution_count": null,
   "metadata": {},
   "outputs": [],
   "source": [
    "# 4) Refatore a classe ContaBancaria para utilizar a abordagem \"pythonica\" na criação de atributos. Utilize propriedades, se necessário.\n",
    "\n",
    "class ContaBancariaPythonica:\n",
    "    def __init__(self, titular, saldo):\n",
    "        self._titular = titular\n",
    "        self._saldo = saldo\n",
    "        self._ativo = False\n",
    "        \n",
    "    @property\n",
    "    def titular(self):\n",
    "        return self._titular\n",
    "    \n",
    "    @property\n",
    "    def saldo(self):\n",
    "        return self._saldo\n",
    "    \n",
    "    @property\n",
    "    def ativo(self):\n",
    "        return self._ativo\n",
    "    \n",
    "    \n",
    "    \n",
    "     "
   ]
  },
  {
   "cell_type": "code",
   "execution_count": 12,
   "metadata": {},
   "outputs": [
    {
     "name": "stdout",
     "output_type": "stream",
     "text": [
      "Malu\n"
     ]
    }
   ],
   "source": [
    "# 5) Crie uma instância da classe e imprima o valor da propriedade titular.\n",
    "\n",
    "class ContaBancariaPythonica:\n",
    "    def __init__(self, titular, saldo):\n",
    "        self._titular = titular\n",
    "        self._saldo = saldo\n",
    "        self._ativo = False\n",
    "        \n",
    "    @property\n",
    "    def titular(self):\n",
    "        return self._titular\n",
    "    \n",
    "    @property\n",
    "    def saldo(self):\n",
    "        return self._saldo\n",
    "    \n",
    "    @property\n",
    "    def ativo(self):\n",
    "        return self._ativo\n",
    "    \n",
    "conta = ContaBancariaPythonica('Malu', 500)\n",
    "print(conta.titular)"
   ]
  },
  {
   "cell_type": "code",
   "execution_count": null,
   "metadata": {},
   "outputs": [],
   "source": [
    "# 6) Crie uma classe chamada ClienteBanco com um construtor que aceita 5 atributos. Instancie 3 objetos desta classe e atribua valores aos seus atributos através do método construtor.\n",
    "\n",
    "class ClienteBanco:\n",
    "    def __init__(self, nome, idade, endereco, cpf, profissao):\n",
    "        self.nome = nome\n",
    "        self.idade = idade\n",
    "        self.endereco = endereco\n",
    "        self.cpf = cpf\n",
    "        self.profissao = profissao\n",
    "\n",
    "cliente1 = ClienteBanco(\"Cadu\", 15, \"Rua A\", \"123.456.789-01\", \"Aposentado\")"
   ]
  },
  {
   "cell_type": "code",
   "execution_count": 14,
   "metadata": {},
   "outputs": [
    {
     "name": "stdout",
     "output_type": "stream",
     "text": [
      "Conta de Malu criada com saldo inicial de R$2000\n"
     ]
    }
   ],
   "source": [
    "# 7) Crie um método de classe para a conta `ClienteBanco`.\n",
    "class ClienteBanco:\n",
    "    def __init__(self, nome, idade, endereco, cpf, profissao):\n",
    "        self.nome = nome\n",
    "        self.idade = idade\n",
    "        self.endereco = endereco\n",
    "        self.cpf = cpf\n",
    "        self.profissao = profissao\n",
    "        \n",
    "    @classmethod\n",
    "    def criar_conta(cls, titular, saldo_inicial):\n",
    "        conta = ContaBancariaPythonica(titular, saldo_inicial)\n",
    "        return conta\n",
    "\n",
    "conta_cliente1 = ClienteBanco.criar_conta(\"Malu\", 2000)\n",
    "print(f\"Conta de {conta_cliente1.titular} criada com saldo inicial de R${conta_cliente1.saldo}\")"
   ]
  },
  {
   "cell_type": "markdown",
   "metadata": {},
   "source": [
    "# Exercícios em Python: Importanto classe e composição"
   ]
  },
  {
   "cell_type": "code",
   "execution_count": null,
   "metadata": {},
   "outputs": [],
   "source": [
    "# 1) Crie uma classe chamada Livro com um construtor que aceita os parâmetros titulo, autor e ano_publicacao. Inicie um atributo chamado disponivel como True por padrão.\n",
    "\n",
    "class Livro:\n",
    "    def __init__(self, titulo, autor, ano_publicacao):\n",
    "        self.titulo = titulo\n",
    "        self.autor = autor\n",
    "        self.ano_publicacao = ano_publicacao\n",
    "        self.disponivel = True"
   ]
  },
  {
   "cell_type": "code",
   "execution_count": null,
   "metadata": {},
   "outputs": [],
   "source": [
    "# 2) Na classe Livro, adicione um método especial str que retorna uma mensagem formatada com o título, autor e ano de publicação do livro. Crie duas instâncias da classe Livro e imprima essas instâncias.\n",
    "\n",
    "class Livro:\n",
    "    def __init__(self, titulo, autor, ano_publicacao):\n",
    "        self.titulo = titulo\n",
    "        self.autor = autor\n",
    "        self.ano_publicacao = ano_publicacao\n",
    "        self.disponivel = True\n",
    "        \n",
    "    def __str__(self):\n",
    "        return f'{self.titulo}, {self.autor} e {self.ano_publicacao}'\n",
    "    \n",
    "meu_livro = Livro('Guerra dos Tronos', 'George Martin', 1998)\n",
    "meu_livro2 = Livro('Tralala', 'Célio', 2024)\n",
    "\n",
    "print(meu_livro)\n",
    "print(meu_livro2)"
   ]
  },
  {
   "cell_type": "code",
   "execution_count": null,
   "metadata": {},
   "outputs": [],
   "source": [
    "# 3) Adicione um método de instância chamado emprestar à classe Livro que define o atributo disponivel como False. Crie uma instância da classe, chame o método emprestar e imprima se o livro está disponível ou não.\n",
    "\n",
    "class Livro:\n",
    "    def __init__(self, titulo, autor, ano_publicacao):\n",
    "        self.titulo = titulo\n",
    "        self.autor = autor\n",
    "        self.ano_publicacao = ano_publicacao\n",
    "        self.disponivel = True\n",
    "        \n",
    "    def __str__(self):\n",
    "        return f'{self.titulo}, {self.autor} e {self.ano_publicacao}. O livro está {self.disponivel}.'\n",
    "    \n",
    "    def empresar_livro(self):\n",
    "        self.disponivel = False\n",
    "\n",
    "    \n",
    "meu_livro = Livro('Guerra dos Tronos', 'George Martin', 1998)\n",
    "print(meu_livro)\n",
    "\n",
    "meu_livro.empresar_livro()\n",
    "print(meu_livro)\n",
    "\n",
    "meu_livro2 = Livro('Tralala', 'Célio', 2024)\n",
    "print(meu_livro2)\n"
   ]
  },
  {
   "cell_type": "markdown",
   "metadata": {},
   "source": [
    "# Exercícios: Herança"
   ]
  },
  {
   "cell_type": "code",
   "execution_count": null,
   "metadata": {},
   "outputs": [],
   "source": [
    "# ATIVIDADE: Com base no que vimos nessa aula sobre herança, crie uma classe Banco com dois atributos: nome e endereco. Em seguida, derive uma classe chamada Agencia que herda os atributos da classe Banco e inclua um atributo adicional chamado numero. Ambas as classes devem ter apenas o construtor.\n",
    "\n",
    "class Banco:\n",
    "    def __init__(self, nome, endereco):\n",
    "        self._nome = nome\n",
    "        self._endereco = endereco\n",
    "        \n",
    "from banco import Banco \n",
    "\n",
    "class Agencia(Banco):\n",
    "    def __init__(self, nome, endereco, numero):\n",
    "        super().__init__(nome, endereco)\n",
    "        self.numero = numero "
   ]
  },
  {
   "cell_type": "code",
   "execution_count": null,
   "metadata": {},
   "outputs": [],
   "source": [
    "# 1) Crie uma Classe Pai (Veiculo): Implemente uma classe chamada Veiculo com um construtor que aceita dois parâmetros, marca e modelo. A classe deve ter um atributo protegido _ligado inicializado como False por padrão.\n",
    "\n",
    "class Veiculo: \n",
    "    def __init__(self, marca, modelo):\n",
    "        self.marca = marca\n",
    "        self.modelo = modelo \n",
    "        self._ligado = False"
   ]
  },
  {
   "cell_type": "code",
   "execution_count": null,
   "metadata": {},
   "outputs": [],
   "source": [
    "# 2) Construa o Método Especial str: Adicione um método especial str à classe Veiculo que retorna uma mensagem formatada com a marca, modelo e o estado de ligado/desligado do veículo.\n",
    "\n",
    "class Veiculo: \n",
    "    def __init__(self, marca, modelo):\n",
    "        self.marca = marca\n",
    "        self.modelo = modelo \n",
    "        self._ligado = False\n",
    "        \n",
    "    def __str__(self):\n",
    "        status = \"ligado\" if self._ligado else \"desligado\"\n",
    "        return f'{self.marca} {self.modelo} - Status: {status}'\n"
   ]
  },
  {
   "cell_type": "code",
   "execution_count": null,
   "metadata": {},
   "outputs": [],
   "source": [
    "# 3) Crie uma Classe Filha (Carro): Agora, crie uma classe chamada Carro que herda da classe Veiculo. No construtor da classe Carro, inclua um novo atributo chamado portas que indica a quantidade de portas do carro.\n",
    "\n",
    "\n",
    "class Carro(Veiculo):\n",
    "    def __init__(self, modelo, marca, portas):\n",
    "        super().__init__(self, modelo, marca)\n",
    "        self.portas = portas"
   ]
  },
  {
   "cell_type": "code",
   "execution_count": null,
   "metadata": {},
   "outputs": [],
   "source": [
    "# 4) Implemente o Método Especial str na Classe Filha: Adicione um método especial str à classe Carro que estenda o método da classe pai (Veiculo) e inclua a informação sobre a quantidade de portas do carro.\n",
    "\n",
    "class Carro(Veiculo):\n",
    "    def __init__(self, modelo, marca, portas):\n",
    "        super().__init__(self, modelo, marca)\n",
    "        self.portas = portas\n",
    "\n",
    "    def __str__(self):\n",
    "        status = \"ligado\" if self._ligado else \"desligado\"\n",
    "        return f\"{self.marca} {self.modelo} - Portas: {self.portas} - Status: {status}\""
   ]
  },
  {
   "cell_type": "code",
   "execution_count": null,
   "metadata": {},
   "outputs": [],
   "source": [
    "# 5) Crie uma Classe Filha (Moto): Similarmente, crie uma classe chamada Moto que também herda de Veiculo. Adicione um novo atributo chamado tipo ao construtor, indicando se a moto é esportiva ou casual.\n",
    "\n",
    "class Moto(Veiculo):\n",
    "    def __init__(self, marca, modelo, tipo):\n",
    "        super().__init__(self, marca, modelo)\n",
    "        self.tipo = tipo\n",
    "        "
   ]
  },
  {
   "cell_type": "code",
   "execution_count": null,
   "metadata": {},
   "outputs": [],
   "source": [
    "# 6) Implemente o Método Especial str na Classe Filha (Moto): Adicione um método especial str à classe Moto que estenda o método da classe pai (Veiculo) e inclua a informação sobre o tipo da moto.\n",
    "\n",
    "class Moto(Veiculo):\n",
    "    def __init__(self, marca, modelo, tipo):\n",
    "        super().__init__(self, marca, modelo)\n",
    "        self.tipo = tipo\n",
    "    \n",
    "    def __str__(self):\n",
    "        status = \"ligado\" if self._ligado else \"desligado\"\n",
    "        return f\"{self.marca} {self.modelo} - Tipo: {self.tipo} - Status: {status}\"\n",
    "\n"
   ]
  },
  {
   "cell_type": "code",
   "execution_count": null,
   "metadata": {},
   "outputs": [],
   "source": [
    "# 7) Crie um Arquivo Main (main.py): Crie um arquivo chamado main.py no mesmo diretório que suas classes.\n",
    "\n",
    "# 8) Importe e Instancie Objetos: No arquivo main.py, importe as classes Carro e Moto. Em seguida, crie três instâncias de Carro e Moto com diferentes marcas, modelos, quantidade de portas e tipos.\n",
    "\n",
    "from carros import Carro\n",
    "from motos import Moto\n",
    "\n",
    "carro1 = Carro(\"Toyota\", \"Corolla\", 4)\n",
    "carro2 = Carro(\"Honda\", \"Civic\", 2)\n",
    "carro3 = Carro(\"Ford\", \"Fusion\", 4)\n",
    "\n",
    "moto1 = Moto(\"Harley-Davidson\", \"Street 750\", \"Esportiva\")\n",
    "moto2 = Moto(\"Honda\", \"CB 500\", \"Casual\")\n",
    "moto3 = Moto(\"Yamaha\", \"MT-09\", \"Esportiva\")\n",
    "\n",
    "\n",
    "print(carro1)\n",
    "print(carro2)\n",
    "print(carro3)\n",
    "\n",
    "print(moto1)\n",
    "print(moto2)\n",
    "print(moto3)"
   ]
  }
 ],
 "metadata": {
  "kernelspec": {
   "display_name": "base",
   "language": "python",
   "name": "python3"
  },
  "language_info": {
   "codemirror_mode": {
    "name": "ipython",
    "version": 3
   },
   "file_extension": ".py",
   "mimetype": "text/x-python",
   "name": "python",
   "nbconvert_exporter": "python",
   "pygments_lexer": "ipython3",
   "version": "3.12.3"
  }
 },
 "nbformat": 4,
 "nbformat_minor": 2
}
